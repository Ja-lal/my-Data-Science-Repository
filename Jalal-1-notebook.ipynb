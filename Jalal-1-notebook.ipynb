{
 "cells": [
  {
   "cell_type": "markdown",
   "id": "6b46bdbb",
   "metadata": {},
   "source": [
    "# Jalal Notebook Title"
   ]
  },
  {
   "cell_type": "code",
   "execution_count": null,
   "id": "f6130dda",
   "metadata": {},
   "outputs": [],
   "source": []
  },
  {
   "cell_type": "code",
   "execution_count": null,
   "id": "a492024c",
   "metadata": {},
   "outputs": [],
   "source": []
  },
  {
   "cell_type": "code",
   "execution_count": null,
   "id": "1a255d42",
   "metadata": {},
   "outputs": [],
   "source": []
  },
  {
   "cell_type": "markdown",
   "id": "09b57030",
   "metadata": {},
   "source": [
    "## Introduction\n",
    "\n",
    "In this notebook, we will explore various data analysis techniques using Python. We will cover topics such as data cleaning, visualization, and statistical analysis. By the end of this notebook, you should have a solid understanding of how to manipulate and analyze data using popular libraries like pandas and matplotlib.\n"
   ]
  },
  {
   "cell_type": "code",
   "execution_count": null,
   "id": "c3a58fef",
   "metadata": {},
   "outputs": [],
   "source": []
  },
  {
   "cell_type": "code",
   "execution_count": null,
   "id": "e6ff65cf",
   "metadata": {},
   "outputs": [],
   "source": []
  },
  {
   "cell_type": "markdown",
   "id": "9c2f9939",
   "metadata": {},
   "source": [
    "## Data Science Languages\n",
    "\n",
    "/Jalal\n",
    "\n",
    "Here are some of the popular languages used in Data Science:\n",
    "\n",
    "- R\n",
    "- Python\n",
    "- SQL\n",
    "- Julia\n",
    "- Scala"
   ]
  },
  {
   "cell_type": "code",
   "execution_count": null,
   "id": "3f13ff76",
   "metadata": {},
   "outputs": [],
   "source": []
  },
  {
   "cell_type": "code",
   "execution_count": null,
   "id": "2aeded52",
   "metadata": {},
   "outputs": [],
   "source": []
  },
  {
   "cell_type": "code",
   "execution_count": null,
   "id": "86c2c7ce",
   "metadata": {},
   "outputs": [],
   "source": []
  },
  {
   "cell_type": "code",
   "execution_count": null,
   "id": "b187e19f",
   "metadata": {},
   "outputs": [],
   "source": []
  },
  {
   "cell_type": "code",
   "execution_count": null,
   "id": "d1b6e2bf",
   "metadata": {},
   "outputs": [],
   "source": []
  },
  {
   "cell_type": "code",
   "execution_count": null,
   "id": "06478f9d",
   "metadata": {},
   "outputs": [],
   "source": []
  },
  {
   "cell_type": "code",
   "execution_count": null,
   "id": "e3a04c33",
   "metadata": {},
   "outputs": [],
   "source": []
  },
  {
   "cell_type": "code",
   "execution_count": null,
   "id": "c4961299",
   "metadata": {},
   "outputs": [],
   "source": []
  },
  {
   "cell_type": "code",
   "execution_count": null,
   "id": "553864e1",
   "metadata": {},
   "outputs": [],
   "source": []
  },
  {
   "cell_type": "code",
   "execution_count": null,
   "id": "33cda19a",
   "metadata": {},
   "outputs": [],
   "source": []
  },
  {
   "cell_type": "code",
   "execution_count": null,
   "id": "1ea35c27",
   "metadata": {},
   "outputs": [],
   "source": []
  },
  {
   "cell_type": "code",
   "execution_count": null,
   "id": "91828dde",
   "metadata": {},
   "outputs": [],
   "source": []
  },
  {
   "cell_type": "code",
   "execution_count": null,
   "id": "4b4cc0de",
   "metadata": {},
   "outputs": [],
   "source": []
  },
  {
   "cell_type": "code",
   "execution_count": null,
   "id": "7eec221e",
   "metadata": {},
   "outputs": [],
   "source": []
  },
  {
   "cell_type": "markdown",
   "id": "ecba63be",
   "metadata": {},
   "source": [
    "## Data Science Libraries\n",
    "\n",
    "Some popular libraries in Data Science:\n",
    "\n",
    "- NumPy\n",
    "- Pandas\n",
    "- Matplotlib\n",
    "- Seaborn\n",
    "- Scikit-learn\n",
    "- TensorFlow\n",
    "- Keras\n",
    "- PyTorch\n",
    "- SciPy"
   ]
  },
  {
   "cell_type": "code",
   "execution_count": null,
   "id": "48bd9621",
   "metadata": {},
   "outputs": [],
   "source": []
  },
  {
   "cell_type": "markdown",
   "id": "09f9dcd0",
   "metadata": {},
   "source": [
    "## Data Science Tools\n",
    "\n",
    "Table\n",
    "\n",
    "| Tool           | Description                |\n",
    "|----------------|----------------------------|\n",
    "| Jupyter        | An open-ource for interactive computing and sharing notebooks.|\n",
    "| Rstudio        | An integrated development for R.|\n",
    "| Apache Spark   | An unified for an anlytics engine for big data processing.|\n",
    "| Tableau        | A powerful tool for visualization.|\n",
    "| Tensorflow     | An open-source machine learning framework.|\n",
    "| Apache Hadoop  | A framewokr for distributed storage and processing of big data.|"
   ]
  },
  {
   "cell_type": "markdown",
   "id": "74664fa2",
   "metadata": {},
   "source": [
    "## Arithmetic Expressions\n",
    "\n",
    "Basic arithmetic operators:\n",
    "\n",
    "* Addition: `+`\n",
    "* Subtraction: `-`\n",
    "* Multiplication: `*`\n",
    "* Division: `/`"
   ]
  },
  {
   "cell_type": "code",
   "execution_count": 8,
   "id": "7e655a85",
   "metadata": {},
   "outputs": [
    {
     "data": {
      "text/plain": [
       "20"
      ]
     },
     "execution_count": 8,
     "metadata": {},
     "output_type": "execute_result"
    }
   ],
   "source": [
    "#Exercise 8\n",
    "\n",
    "4+4\n",
    "\n",
    "4*5"
   ]
  },
  {
   "cell_type": "code",
   "execution_count": 12,
   "id": "d587609a",
   "metadata": {},
   "outputs": [
    {
     "name": "stdout",
     "output_type": "stream",
     "text": [
      "2.0\n"
     ]
    }
   ],
   "source": [
    "minutes = 120\n",
    "\n",
    "hours = minutes/60\n",
    "\n",
    "print(hours)"
   ]
  },
  {
   "cell_type": "markdown",
   "id": "1cbff223",
   "metadata": {},
   "source": [
    "## Objectives\n",
    "\n",
    "The objectives of this notebook are:\n",
    "\n",
    "1. **Understand the basics of Markdown**:\n",
    "   - Learn how to format text, create lists, and insert tables.\n",
    "\n",
    "2. **Practice with Python code**:\n",
    "   - Perform arithmetic operations, convert units, and work with variables.\n",
    "\n",
    "3. **Explore data science tools and libraries**:\n",
    "   - Identify and list popular tools and libraries used in data science.\n",
    "\n",
    "4. **Gain proficiency in using Jupyter Notebook**:\n",
    "   - Become familiar with Jupyter Notebook's features for interactive computing and documentation.\n"
   ]
  },
  {
   "cell_type": "markdown",
   "id": "52009b6f",
   "metadata": {},
   "source": [
    "## Author\n",
    "\n",
    "This notebook was created by **[Jalal]**."
   ]
  },
  {
   "cell_type": "code",
   "execution_count": null,
   "id": "643af5a3",
   "metadata": {},
   "outputs": [],
   "source": []
  },
  {
   "cell_type": "code",
   "execution_count": null,
   "id": "ae78e152",
   "metadata": {},
   "outputs": [],
   "source": []
  },
  {
   "cell_type": "code",
   "execution_count": null,
   "id": "b57e40a5",
   "metadata": {},
   "outputs": [],
   "source": []
  },
  {
   "cell_type": "code",
   "execution_count": null,
   "id": "ebe9c0c6",
   "metadata": {},
   "outputs": [],
   "source": []
  },
  {
   "cell_type": "code",
   "execution_count": null,
   "id": "2113442f",
   "metadata": {},
   "outputs": [],
   "source": []
  },
  {
   "cell_type": "code",
   "execution_count": null,
   "id": "9adea55f",
   "metadata": {},
   "outputs": [],
   "source": []
  },
  {
   "cell_type": "code",
   "execution_count": null,
   "id": "ee921c0b",
   "metadata": {},
   "outputs": [],
   "source": []
  },
  {
   "cell_type": "code",
   "execution_count": null,
   "id": "10f00815",
   "metadata": {},
   "outputs": [],
   "source": []
  },
  {
   "cell_type": "code",
   "execution_count": null,
   "id": "16c42ffb",
   "metadata": {},
   "outputs": [],
   "source": []
  },
  {
   "cell_type": "code",
   "execution_count": null,
   "id": "9b616d80",
   "metadata": {},
   "outputs": [],
   "source": []
  }
 ],
 "metadata": {
  "kernelspec": {
   "display_name": "Python 3 (ipykernel)",
   "language": "python",
   "name": "python3"
  },
  "language_info": {
   "codemirror_mode": {
    "name": "ipython",
    "version": 3
   },
   "file_extension": ".py",
   "mimetype": "text/x-python",
   "name": "python",
   "nbconvert_exporter": "python",
   "pygments_lexer": "ipython3",
   "version": "3.11.3"
  }
 },
 "nbformat": 4,
 "nbformat_minor": 5
}
